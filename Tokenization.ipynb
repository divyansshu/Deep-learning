{
  "nbformat": 4,
  "nbformat_minor": 0,
  "metadata": {
    "colab": {
      "provenance": [],
      "authorship_tag": "ABX9TyOzqiRAZl7eHiEaeyZv+n5D",
      "include_colab_link": true
    },
    "kernelspec": {
      "name": "python3",
      "display_name": "Python 3"
    },
    "language_info": {
      "name": "python"
    }
  },
  "cells": [
    {
      "cell_type": "markdown",
      "metadata": {
        "id": "view-in-github",
        "colab_type": "text"
      },
      "source": [
        "<a href=\"https://colab.research.google.com/github/divyansshu/Deep-learning/blob/main/Tokenization.ipynb\" target=\"_parent\"><img src=\"https://colab.research.google.com/assets/colab-badge.svg\" alt=\"Open In Colab\"/></a>"
      ]
    },
    {
      "cell_type": "code",
      "source": [
        "!pip install nltk"
      ],
      "metadata": {
        "colab": {
          "base_uri": "https://localhost:8080/"
        },
        "id": "tIG1nu5tbS0R",
        "outputId": "9c542de5-52c3-4770-e28e-66c46fd18812"
      },
      "execution_count": 4,
      "outputs": [
        {
          "output_type": "stream",
          "name": "stdout",
          "text": [
            "Requirement already satisfied: nltk in /usr/local/lib/python3.11/dist-packages (3.9.1)\n",
            "Requirement already satisfied: click in /usr/local/lib/python3.11/dist-packages (from nltk) (8.2.1)\n",
            "Requirement already satisfied: joblib in /usr/local/lib/python3.11/dist-packages (from nltk) (1.5.1)\n",
            "Requirement already satisfied: regex>=2021.8.3 in /usr/local/lib/python3.11/dist-packages (from nltk) (2024.11.6)\n",
            "Requirement already satisfied: tqdm in /usr/local/lib/python3.11/dist-packages (from nltk) (4.67.1)\n"
          ]
        }
      ]
    },
    {
      "cell_type": "code",
      "source": [
        "import nltk\n",
        "nltk.download('punkt_tab')"
      ],
      "metadata": {
        "colab": {
          "base_uri": "https://localhost:8080/"
        },
        "id": "Nq0OnvWWblJS",
        "outputId": "86c2915c-3af0-45b6-cd91-3d1cedcd6703"
      },
      "execution_count": 11,
      "outputs": [
        {
          "output_type": "stream",
          "name": "stderr",
          "text": [
            "[nltk_data] Downloading package punkt_tab to /root/nltk_data...\n",
            "[nltk_data]   Unzipping tokenizers/punkt_tab.zip.\n"
          ]
        },
        {
          "output_type": "execute_result",
          "data": {
            "text/plain": [
              "True"
            ]
          },
          "metadata": {},
          "execution_count": 11
        }
      ]
    },
    {
      "cell_type": "code",
      "execution_count": 14,
      "metadata": {
        "id": "_nMz4f8YZdAt"
      },
      "outputs": [],
      "source": [
        "corpus = 'Hello, This is a random paragraph. For testing how the tokeniztion works. First example is showing how sentence tokenization works? It creates new line (sentence tokenization) based on fullStop, exclamation mark and new line.'"
      ]
    },
    {
      "cell_type": "code",
      "source": [
        "from nltk.tokenize import sent_tokenize"
      ],
      "metadata": {
        "id": "Jzhsar6SbIyX"
      },
      "execution_count": 12,
      "outputs": []
    },
    {
      "cell_type": "code",
      "source": [
        "sent_tokenize(corpus)"
      ],
      "metadata": {
        "colab": {
          "base_uri": "https://localhost:8080/"
        },
        "id": "05WjNKxGbN3-",
        "outputId": "7ad6d426-f4f3-41fd-8d90-cf692ce9652e"
      },
      "execution_count": 15,
      "outputs": [
        {
          "output_type": "execute_result",
          "data": {
            "text/plain": [
              "['Hello, This is a random paragraph.',\n",
              " 'For testing how the tokeniztion works.',\n",
              " 'First example is showing how sentence tokenization works?',\n",
              " 'It creates new line (sentence tokenization) based on fullStop, exclamation mark and new line.']"
            ]
          },
          "metadata": {},
          "execution_count": 15
        }
      ]
    },
    {
      "cell_type": "code",
      "source": [
        "from nltk.tokenize import word_tokenize"
      ],
      "metadata": {
        "id": "VdlXRhmgbRBR"
      },
      "execution_count": 16,
      "outputs": []
    },
    {
      "cell_type": "code",
      "source": [
        "word_tokenize(corpus)"
      ],
      "metadata": {
        "colab": {
          "base_uri": "https://localhost:8080/"
        },
        "id": "82-ZgwqlebjJ",
        "outputId": "f4f22e1b-36bd-43a9-87a2-6c2b8ecd23ed"
      },
      "execution_count": 17,
      "outputs": [
        {
          "output_type": "execute_result",
          "data": {
            "text/plain": [
              "['Hello',\n",
              " ',',\n",
              " 'This',\n",
              " 'is',\n",
              " 'a',\n",
              " 'random',\n",
              " 'paragraph',\n",
              " '.',\n",
              " 'For',\n",
              " 'testing',\n",
              " 'how',\n",
              " 'the',\n",
              " 'tokeniztion',\n",
              " 'works',\n",
              " '.',\n",
              " 'First',\n",
              " 'example',\n",
              " 'is',\n",
              " 'showing',\n",
              " 'how',\n",
              " 'sentence',\n",
              " 'tokenization',\n",
              " 'works',\n",
              " '?',\n",
              " 'It',\n",
              " 'creates',\n",
              " 'new',\n",
              " 'line',\n",
              " '(',\n",
              " 'sentence',\n",
              " 'tokenization',\n",
              " ')',\n",
              " 'based',\n",
              " 'on',\n",
              " 'fullStop',\n",
              " ',',\n",
              " 'exclamation',\n",
              " 'mark',\n",
              " 'and',\n",
              " 'new',\n",
              " 'line',\n",
              " '.']"
            ]
          },
          "metadata": {},
          "execution_count": 17
        }
      ]
    },
    {
      "cell_type": "code",
      "source": [
        "from nltk.tokenize import wordpunct_tokenize"
      ],
      "metadata": {
        "id": "YUdi51E9et9O"
      },
      "execution_count": 18,
      "outputs": []
    },
    {
      "cell_type": "code",
      "source": [
        "wordpunct_tokenize(corpus)"
      ],
      "metadata": {
        "colab": {
          "base_uri": "https://localhost:8080/"
        },
        "id": "xVZRpmDLhFx8",
        "outputId": "f82b1b3d-c505-48f1-f825-95639c79d578"
      },
      "execution_count": 19,
      "outputs": [
        {
          "output_type": "execute_result",
          "data": {
            "text/plain": [
              "['Hello',\n",
              " ',',\n",
              " 'This',\n",
              " 'is',\n",
              " 'a',\n",
              " 'random',\n",
              " 'paragraph',\n",
              " '.',\n",
              " 'For',\n",
              " 'testing',\n",
              " 'how',\n",
              " 'the',\n",
              " 'tokeniztion',\n",
              " 'works',\n",
              " '.',\n",
              " 'First',\n",
              " 'example',\n",
              " 'is',\n",
              " 'showing',\n",
              " 'how',\n",
              " 'sentence',\n",
              " 'tokenization',\n",
              " 'works',\n",
              " '?',\n",
              " 'It',\n",
              " 'creates',\n",
              " 'new',\n",
              " 'line',\n",
              " '(',\n",
              " 'sentence',\n",
              " 'tokenization',\n",
              " ')',\n",
              " 'based',\n",
              " 'on',\n",
              " 'fullStop',\n",
              " ',',\n",
              " 'exclamation',\n",
              " 'mark',\n",
              " 'and',\n",
              " 'new',\n",
              " 'line',\n",
              " '.']"
            ]
          },
          "metadata": {},
          "execution_count": 19
        }
      ]
    },
    {
      "cell_type": "code",
      "source": [
        "from nltk.tokenize import TreebankWordTokenizer"
      ],
      "metadata": {
        "id": "1Uiz0dxThMs-"
      },
      "execution_count": 20,
      "outputs": []
    },
    {
      "cell_type": "code",
      "source": [
        "tokenizer = TreebankWordTokenizer()\n",
        "tokenizer.tokenize(corpus)"
      ],
      "metadata": {
        "colab": {
          "base_uri": "https://localhost:8080/"
        },
        "id": "2CWohCa8iGF0",
        "outputId": "581799ba-e08f-4983-c0ed-1a195f03b06c"
      },
      "execution_count": 22,
      "outputs": [
        {
          "output_type": "execute_result",
          "data": {
            "text/plain": [
              "['Hello',\n",
              " ',',\n",
              " 'This',\n",
              " 'is',\n",
              " 'a',\n",
              " 'random',\n",
              " 'paragraph.',\n",
              " 'For',\n",
              " 'testing',\n",
              " 'how',\n",
              " 'the',\n",
              " 'tokeniztion',\n",
              " 'works.',\n",
              " 'First',\n",
              " 'example',\n",
              " 'is',\n",
              " 'showing',\n",
              " 'how',\n",
              " 'sentence',\n",
              " 'tokenization',\n",
              " 'works',\n",
              " '?',\n",
              " 'It',\n",
              " 'creates',\n",
              " 'new',\n",
              " 'line',\n",
              " '(',\n",
              " 'sentence',\n",
              " 'tokenization',\n",
              " ')',\n",
              " 'based',\n",
              " 'on',\n",
              " 'fullStop',\n",
              " ',',\n",
              " 'exclamation',\n",
              " 'mark',\n",
              " 'and',\n",
              " 'new',\n",
              " 'line',\n",
              " '.']"
            ]
          },
          "metadata": {},
          "execution_count": 22
        }
      ]
    },
    {
      "cell_type": "code",
      "source": [],
      "metadata": {
        "id": "BgN70mRjiJX8"
      },
      "execution_count": null,
      "outputs": []
    }
  ]
}